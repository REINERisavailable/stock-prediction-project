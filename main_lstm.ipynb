{
  "nbformat": 4,
  "nbformat_minor": 0,
  "metadata": {
    "colab": {
      "provenance": []
    },
    "kernelspec": {
      "name": "python3",
      "display_name": "Python 3"
    },
    "language_info": {
      "name": "python"
    }
  },
  "cells": [
    {
      "cell_type": "code",
      "source": [
        "import numpy as np\n",
        "import pandas as pd\n",
        "import matplotlib.pyplot as plt\n",
        "from sklearn.preprocessing import MinMaxScaler\n",
        "from keras.models import Sequential\n",
        "from keras.layers import Dense, Dropout, LSTM\n",
        "from keras.regularizers import l2\n",
        "import yfinance as yf"
      ],
      "metadata": {
        "id": "fWV21Yp4v93l"
      },
      "execution_count": null,
      "outputs": []
    },
    {
      "cell_type": "code",
      "source": [
        "def fetch_data(ticker, start_date, end_date):\n",
        "  df= yf.download(ticker, start_date, end_date)\n",
        "  return df\n",
        "\n",
        "def preprocess_data(df):\n",
        "  df= df['Close'].values.reshape(-1,1)\n",
        "  scaler= MinMaxScaler(feature_range=(0, 1))\n",
        "  df = scaler.fit_transform(df)\n",
        "  return df, scaler\n",
        "\n",
        "df= fetch_data('TSLA','2012-01-01', '2024-01-01')\n",
        "df, scaler = preprocess_data(df)"
      ],
      "metadata": {
        "colab": {
          "base_uri": "https://localhost:8080/"
        },
        "id": "LGmqUp4Fwb8W",
        "outputId": "3a68e071-74fe-48a2-ed4c-88668551d95b"
      },
      "execution_count": null,
      "outputs": [
        {
          "output_type": "stream",
          "name": "stdout",
          "text": [
            "\r[*********************100%%**********************]  1 of 1 completed\n"
          ]
        }
      ]
    },
    {
      "cell_type": "code",
      "source": [
        "def prepare_data(df, look_back):\n",
        "    X, Y = [], []\n",
        "    for i in range(look_back, len(df)):\n",
        "        X.append(df[i-look_back:i])\n",
        "        Y.append(df[i, 0])\n",
        "    X, Y = np.array(X), np.array(Y)\n",
        "    return X, Y\n",
        "\n",
        "train_size = int(len(df) * 0.80)\n",
        "train, test = df[0:train_size,:], df[train_size:len(df),:]\n",
        "look_back = 60\n",
        "X_train, Y_train = prepare_data(train, look_back)\n",
        "X_test, Y_test = prepare_data(test, look_back)"
      ],
      "metadata": {
        "id": "mNNIq3vbxegb"
      },
      "execution_count": null,
      "outputs": []
    },
    {
      "cell_type": "code",
      "source": [
        "def build_model():\n",
        "    model = Sequential()\n",
        "    model.add(LSTM(units=50, return_sequences=True, kernel_regularizer=l2(0.01), input_shape=(X_train.shape[1], 1)))\n",
        "    model.add(Dropout(0.2))\n",
        "    model.add(LSTM(units=50, kernel_regularizer=l2(0.01)))\n",
        "    model.add(Dropout(0.2))\n",
        "    model.add(Dense(1))\n",
        "    model.compile(loss='mean_squared_error', optimizer='adam')\n",
        "    return model\n",
        "\n",
        "model = build_model()"
      ],
      "metadata": {
        "id": "rd4fomF4zMGK"
      },
      "execution_count": null,
      "outputs": []
    },
    {
      "cell_type": "code",
      "source": [
        "model.fit(X_train, Y_train, epochs=50, batch_size=32, verbose=2)\n",
        "\n",
        "model.save(\"saved_model.h5\")\n",
        "import joblib\n",
        "joblib.dump(scaler, 'scaler.pkl')"
      ],
      "metadata": {
        "colab": {
          "base_uri": "https://localhost:8080/"
        },
        "id": "3i00wYK8-6CR",
        "outputId": "749398c7-2e71-474f-93c7-9c9cb718c9fd"
      },
      "execution_count": null,
      "outputs": [
        {
          "output_type": "stream",
          "name": "stdout",
          "text": [
            "Epoch 1/50\n",
            "74/74 - 4s - loss: 0.0027 - 4s/epoch - 49ms/step\n",
            "Epoch 2/50\n",
            "74/74 - 5s - loss: 0.0019 - 5s/epoch - 67ms/step\n",
            "Epoch 3/50\n",
            "74/74 - 4s - loss: 0.0016 - 4s/epoch - 51ms/step\n",
            "Epoch 4/50\n",
            "74/74 - 4s - loss: 0.0017 - 4s/epoch - 49ms/step\n",
            "Epoch 5/50\n",
            "74/74 - 4s - loss: 0.0018 - 4s/epoch - 54ms/step\n",
            "Epoch 6/50\n",
            "74/74 - 5s - loss: 0.0015 - 5s/epoch - 63ms/step\n",
            "Epoch 7/50\n",
            "74/74 - 4s - loss: 0.0019 - 4s/epoch - 49ms/step\n",
            "Epoch 8/50\n",
            "74/74 - 4s - loss: 0.0014 - 4s/epoch - 48ms/step\n",
            "Epoch 9/50\n",
            "74/74 - 5s - loss: 0.0014 - 5s/epoch - 69ms/step\n",
            "Epoch 10/50\n",
            "74/74 - 4s - loss: 0.0013 - 4s/epoch - 48ms/step\n",
            "Epoch 11/50\n",
            "74/74 - 4s - loss: 0.0016 - 4s/epoch - 48ms/step\n",
            "Epoch 12/50\n",
            "74/74 - 4s - loss: 0.0015 - 4s/epoch - 60ms/step\n",
            "Epoch 13/50\n",
            "74/74 - 4s - loss: 0.0014 - 4s/epoch - 57ms/step\n",
            "Epoch 14/50\n",
            "74/74 - 4s - loss: 0.0017 - 4s/epoch - 51ms/step\n",
            "Epoch 15/50\n",
            "74/74 - 4s - loss: 0.0013 - 4s/epoch - 51ms/step\n",
            "Epoch 16/50\n",
            "74/74 - 5s - loss: 0.0013 - 5s/epoch - 68ms/step\n",
            "Epoch 17/50\n",
            "74/74 - 4s - loss: 0.0012 - 4s/epoch - 49ms/step\n",
            "Epoch 18/50\n",
            "74/74 - 4s - loss: 0.0013 - 4s/epoch - 49ms/step\n",
            "Epoch 19/50\n",
            "74/74 - 5s - loss: 0.0011 - 5s/epoch - 69ms/step\n",
            "Epoch 20/50\n",
            "74/74 - 4s - loss: 0.0014 - 4s/epoch - 48ms/step\n",
            "Epoch 21/50\n",
            "74/74 - 4s - loss: 0.0010 - 4s/epoch - 54ms/step\n",
            "Epoch 22/50\n",
            "74/74 - 5s - loss: 0.0011 - 5s/epoch - 61ms/step\n",
            "Epoch 23/50\n",
            "74/74 - 4s - loss: 0.0010 - 4s/epoch - 57ms/step\n",
            "Epoch 24/50\n",
            "74/74 - 4s - loss: 0.0012 - 4s/epoch - 48ms/step\n",
            "Epoch 25/50\n",
            "74/74 - 4s - loss: 0.0013 - 4s/epoch - 49ms/step\n",
            "Epoch 26/50\n",
            "74/74 - 5s - loss: 0.0012 - 5s/epoch - 69ms/step\n",
            "Epoch 27/50\n",
            "74/74 - 4s - loss: 0.0014 - 4s/epoch - 49ms/step\n",
            "Epoch 28/50\n",
            "74/74 - 4s - loss: 0.0012 - 4s/epoch - 49ms/step\n",
            "Epoch 29/50\n",
            "74/74 - 5s - loss: 0.0011 - 5s/epoch - 69ms/step\n",
            "Epoch 30/50\n",
            "74/74 - 4s - loss: 0.0011 - 4s/epoch - 50ms/step\n",
            "Epoch 31/50\n",
            "74/74 - 4s - loss: 0.0011 - 4s/epoch - 49ms/step\n",
            "Epoch 32/50\n",
            "74/74 - 4s - loss: 0.0011 - 4s/epoch - 55ms/step\n",
            "Epoch 33/50\n",
            "74/74 - 5s - loss: 0.0011 - 5s/epoch - 63ms/step\n",
            "Epoch 34/50\n",
            "74/74 - 4s - loss: 0.0014 - 4s/epoch - 49ms/step\n",
            "Epoch 35/50\n",
            "74/74 - 4s - loss: 0.0012 - 4s/epoch - 49ms/step\n",
            "Epoch 36/50\n",
            "74/74 - 5s - loss: 0.0011 - 5s/epoch - 69ms/step\n",
            "Epoch 37/50\n",
            "74/74 - 4s - loss: 9.8218e-04 - 4s/epoch - 49ms/step\n",
            "Epoch 38/50\n",
            "74/74 - 4s - loss: 9.7703e-04 - 4s/epoch - 49ms/step\n",
            "Epoch 39/50\n",
            "74/74 - 5s - loss: 0.0010 - 5s/epoch - 63ms/step\n",
            "Epoch 40/50\n",
            "74/74 - 4s - loss: 0.0010 - 4s/epoch - 54ms/step\n",
            "Epoch 41/50\n",
            "74/74 - 4s - loss: 9.4744e-04 - 4s/epoch - 49ms/step\n",
            "Epoch 42/50\n",
            "74/74 - 4s - loss: 0.0010 - 4s/epoch - 51ms/step\n",
            "Epoch 43/50\n",
            "74/74 - 5s - loss: 0.0011 - 5s/epoch - 67ms/step\n",
            "Epoch 44/50\n",
            "74/74 - 4s - loss: 0.0012 - 4s/epoch - 49ms/step\n",
            "Epoch 45/50\n",
            "74/74 - 4s - loss: 8.8453e-04 - 4s/epoch - 49ms/step\n",
            "Epoch 46/50\n",
            "74/74 - 5s - loss: 0.0011 - 5s/epoch - 69ms/step\n",
            "Epoch 47/50\n",
            "74/74 - 4s - loss: 8.6062e-04 - 4s/epoch - 49ms/step\n",
            "Epoch 48/50\n",
            "74/74 - 4s - loss: 0.0010 - 4s/epoch - 49ms/step\n",
            "Epoch 49/50\n",
            "74/74 - 4s - loss: 9.0827e-04 - 4s/epoch - 60ms/step\n",
            "Epoch 50/50\n",
            "74/74 - 4s - loss: 9.1501e-04 - 4s/epoch - 59ms/step\n"
          ]
        },
        {
          "output_type": "execute_result",
          "data": {
            "text/plain": [
              "['scaler.pkl']"
            ]
          },
          "metadata": {},
          "execution_count": 24
        }
      ]
    }
  ]
}